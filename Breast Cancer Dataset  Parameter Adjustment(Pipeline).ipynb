{
 "cells": [
  {
   "cell_type": "code",
   "execution_count": 25,
   "id": "ab90e253",
   "metadata": {},
   "outputs": [
    {
     "data": {
      "text/html": [
       "<div>\n",
       "<style scoped>\n",
       "    .dataframe tbody tr th:only-of-type {\n",
       "        vertical-align: middle;\n",
       "    }\n",
       "\n",
       "    .dataframe tbody tr th {\n",
       "        vertical-align: top;\n",
       "    }\n",
       "\n",
       "    .dataframe thead th {\n",
       "        text-align: right;\n",
       "    }\n",
       "</style>\n",
       "<table border=\"1\" class=\"dataframe\">\n",
       "  <thead>\n",
       "    <tr style=\"text-align: right;\">\n",
       "      <th></th>\n",
       "      <th>842302</th>\n",
       "      <th>M</th>\n",
       "      <th>17.99</th>\n",
       "      <th>10.38</th>\n",
       "      <th>122.8</th>\n",
       "      <th>1001</th>\n",
       "      <th>0.1184</th>\n",
       "      <th>0.2776</th>\n",
       "      <th>0.3001</th>\n",
       "      <th>0.1471</th>\n",
       "      <th>...</th>\n",
       "      <th>25.38</th>\n",
       "      <th>17.33</th>\n",
       "      <th>184.6</th>\n",
       "      <th>2019</th>\n",
       "      <th>0.1622</th>\n",
       "      <th>0.6656</th>\n",
       "      <th>0.7119</th>\n",
       "      <th>0.2654</th>\n",
       "      <th>0.4601</th>\n",
       "      <th>0.1189</th>\n",
       "    </tr>\n",
       "  </thead>\n",
       "  <tbody>\n",
       "    <tr>\n",
       "      <th>0</th>\n",
       "      <td>842517</td>\n",
       "      <td>M</td>\n",
       "      <td>20.57</td>\n",
       "      <td>17.77</td>\n",
       "      <td>132.90</td>\n",
       "      <td>1326.0</td>\n",
       "      <td>0.08474</td>\n",
       "      <td>0.07864</td>\n",
       "      <td>0.08690</td>\n",
       "      <td>0.07017</td>\n",
       "      <td>...</td>\n",
       "      <td>24.990</td>\n",
       "      <td>23.41</td>\n",
       "      <td>158.80</td>\n",
       "      <td>1956.0</td>\n",
       "      <td>0.12380</td>\n",
       "      <td>0.18660</td>\n",
       "      <td>0.2416</td>\n",
       "      <td>0.1860</td>\n",
       "      <td>0.2750</td>\n",
       "      <td>0.08902</td>\n",
       "    </tr>\n",
       "    <tr>\n",
       "      <th>1</th>\n",
       "      <td>84300903</td>\n",
       "      <td>M</td>\n",
       "      <td>19.69</td>\n",
       "      <td>21.25</td>\n",
       "      <td>130.00</td>\n",
       "      <td>1203.0</td>\n",
       "      <td>0.10960</td>\n",
       "      <td>0.15990</td>\n",
       "      <td>0.19740</td>\n",
       "      <td>0.12790</td>\n",
       "      <td>...</td>\n",
       "      <td>23.570</td>\n",
       "      <td>25.53</td>\n",
       "      <td>152.50</td>\n",
       "      <td>1709.0</td>\n",
       "      <td>0.14440</td>\n",
       "      <td>0.42450</td>\n",
       "      <td>0.4504</td>\n",
       "      <td>0.2430</td>\n",
       "      <td>0.3613</td>\n",
       "      <td>0.08758</td>\n",
       "    </tr>\n",
       "    <tr>\n",
       "      <th>2</th>\n",
       "      <td>84348301</td>\n",
       "      <td>M</td>\n",
       "      <td>11.42</td>\n",
       "      <td>20.38</td>\n",
       "      <td>77.58</td>\n",
       "      <td>386.1</td>\n",
       "      <td>0.14250</td>\n",
       "      <td>0.28390</td>\n",
       "      <td>0.24140</td>\n",
       "      <td>0.10520</td>\n",
       "      <td>...</td>\n",
       "      <td>14.910</td>\n",
       "      <td>26.50</td>\n",
       "      <td>98.87</td>\n",
       "      <td>567.7</td>\n",
       "      <td>0.20980</td>\n",
       "      <td>0.86630</td>\n",
       "      <td>0.6869</td>\n",
       "      <td>0.2575</td>\n",
       "      <td>0.6638</td>\n",
       "      <td>0.17300</td>\n",
       "    </tr>\n",
       "    <tr>\n",
       "      <th>3</th>\n",
       "      <td>84358402</td>\n",
       "      <td>M</td>\n",
       "      <td>20.29</td>\n",
       "      <td>14.34</td>\n",
       "      <td>135.10</td>\n",
       "      <td>1297.0</td>\n",
       "      <td>0.10030</td>\n",
       "      <td>0.13280</td>\n",
       "      <td>0.19800</td>\n",
       "      <td>0.10430</td>\n",
       "      <td>...</td>\n",
       "      <td>22.540</td>\n",
       "      <td>16.67</td>\n",
       "      <td>152.20</td>\n",
       "      <td>1575.0</td>\n",
       "      <td>0.13740</td>\n",
       "      <td>0.20500</td>\n",
       "      <td>0.4000</td>\n",
       "      <td>0.1625</td>\n",
       "      <td>0.2364</td>\n",
       "      <td>0.07678</td>\n",
       "    </tr>\n",
       "    <tr>\n",
       "      <th>4</th>\n",
       "      <td>843786</td>\n",
       "      <td>M</td>\n",
       "      <td>12.45</td>\n",
       "      <td>15.70</td>\n",
       "      <td>82.57</td>\n",
       "      <td>477.1</td>\n",
       "      <td>0.12780</td>\n",
       "      <td>0.17000</td>\n",
       "      <td>0.15780</td>\n",
       "      <td>0.08089</td>\n",
       "      <td>...</td>\n",
       "      <td>15.470</td>\n",
       "      <td>23.75</td>\n",
       "      <td>103.40</td>\n",
       "      <td>741.6</td>\n",
       "      <td>0.17910</td>\n",
       "      <td>0.52490</td>\n",
       "      <td>0.5355</td>\n",
       "      <td>0.1741</td>\n",
       "      <td>0.3985</td>\n",
       "      <td>0.12440</td>\n",
       "    </tr>\n",
       "    <tr>\n",
       "      <th>...</th>\n",
       "      <td>...</td>\n",
       "      <td>...</td>\n",
       "      <td>...</td>\n",
       "      <td>...</td>\n",
       "      <td>...</td>\n",
       "      <td>...</td>\n",
       "      <td>...</td>\n",
       "      <td>...</td>\n",
       "      <td>...</td>\n",
       "      <td>...</td>\n",
       "      <td>...</td>\n",
       "      <td>...</td>\n",
       "      <td>...</td>\n",
       "      <td>...</td>\n",
       "      <td>...</td>\n",
       "      <td>...</td>\n",
       "      <td>...</td>\n",
       "      <td>...</td>\n",
       "      <td>...</td>\n",
       "      <td>...</td>\n",
       "      <td>...</td>\n",
       "    </tr>\n",
       "    <tr>\n",
       "      <th>563</th>\n",
       "      <td>926424</td>\n",
       "      <td>M</td>\n",
       "      <td>21.56</td>\n",
       "      <td>22.39</td>\n",
       "      <td>142.00</td>\n",
       "      <td>1479.0</td>\n",
       "      <td>0.11100</td>\n",
       "      <td>0.11590</td>\n",
       "      <td>0.24390</td>\n",
       "      <td>0.13890</td>\n",
       "      <td>...</td>\n",
       "      <td>25.450</td>\n",
       "      <td>26.40</td>\n",
       "      <td>166.10</td>\n",
       "      <td>2027.0</td>\n",
       "      <td>0.14100</td>\n",
       "      <td>0.21130</td>\n",
       "      <td>0.4107</td>\n",
       "      <td>0.2216</td>\n",
       "      <td>0.2060</td>\n",
       "      <td>0.07115</td>\n",
       "    </tr>\n",
       "    <tr>\n",
       "      <th>564</th>\n",
       "      <td>926682</td>\n",
       "      <td>M</td>\n",
       "      <td>20.13</td>\n",
       "      <td>28.25</td>\n",
       "      <td>131.20</td>\n",
       "      <td>1261.0</td>\n",
       "      <td>0.09780</td>\n",
       "      <td>0.10340</td>\n",
       "      <td>0.14400</td>\n",
       "      <td>0.09791</td>\n",
       "      <td>...</td>\n",
       "      <td>23.690</td>\n",
       "      <td>38.25</td>\n",
       "      <td>155.00</td>\n",
       "      <td>1731.0</td>\n",
       "      <td>0.11660</td>\n",
       "      <td>0.19220</td>\n",
       "      <td>0.3215</td>\n",
       "      <td>0.1628</td>\n",
       "      <td>0.2572</td>\n",
       "      <td>0.06637</td>\n",
       "    </tr>\n",
       "    <tr>\n",
       "      <th>565</th>\n",
       "      <td>926954</td>\n",
       "      <td>M</td>\n",
       "      <td>16.60</td>\n",
       "      <td>28.08</td>\n",
       "      <td>108.30</td>\n",
       "      <td>858.1</td>\n",
       "      <td>0.08455</td>\n",
       "      <td>0.10230</td>\n",
       "      <td>0.09251</td>\n",
       "      <td>0.05302</td>\n",
       "      <td>...</td>\n",
       "      <td>18.980</td>\n",
       "      <td>34.12</td>\n",
       "      <td>126.70</td>\n",
       "      <td>1124.0</td>\n",
       "      <td>0.11390</td>\n",
       "      <td>0.30940</td>\n",
       "      <td>0.3403</td>\n",
       "      <td>0.1418</td>\n",
       "      <td>0.2218</td>\n",
       "      <td>0.07820</td>\n",
       "    </tr>\n",
       "    <tr>\n",
       "      <th>566</th>\n",
       "      <td>927241</td>\n",
       "      <td>M</td>\n",
       "      <td>20.60</td>\n",
       "      <td>29.33</td>\n",
       "      <td>140.10</td>\n",
       "      <td>1265.0</td>\n",
       "      <td>0.11780</td>\n",
       "      <td>0.27700</td>\n",
       "      <td>0.35140</td>\n",
       "      <td>0.15200</td>\n",
       "      <td>...</td>\n",
       "      <td>25.740</td>\n",
       "      <td>39.42</td>\n",
       "      <td>184.60</td>\n",
       "      <td>1821.0</td>\n",
       "      <td>0.16500</td>\n",
       "      <td>0.86810</td>\n",
       "      <td>0.9387</td>\n",
       "      <td>0.2650</td>\n",
       "      <td>0.4087</td>\n",
       "      <td>0.12400</td>\n",
       "    </tr>\n",
       "    <tr>\n",
       "      <th>567</th>\n",
       "      <td>92751</td>\n",
       "      <td>B</td>\n",
       "      <td>7.76</td>\n",
       "      <td>24.54</td>\n",
       "      <td>47.92</td>\n",
       "      <td>181.0</td>\n",
       "      <td>0.05263</td>\n",
       "      <td>0.04362</td>\n",
       "      <td>0.00000</td>\n",
       "      <td>0.00000</td>\n",
       "      <td>...</td>\n",
       "      <td>9.456</td>\n",
       "      <td>30.37</td>\n",
       "      <td>59.16</td>\n",
       "      <td>268.6</td>\n",
       "      <td>0.08996</td>\n",
       "      <td>0.06444</td>\n",
       "      <td>0.0000</td>\n",
       "      <td>0.0000</td>\n",
       "      <td>0.2871</td>\n",
       "      <td>0.07039</td>\n",
       "    </tr>\n",
       "  </tbody>\n",
       "</table>\n",
       "<p>568 rows × 32 columns</p>\n",
       "</div>"
      ],
      "text/plain": [
       "       842302  M  17.99  10.38   122.8    1001   0.1184   0.2776   0.3001  \\\n",
       "0      842517  M  20.57  17.77  132.90  1326.0  0.08474  0.07864  0.08690   \n",
       "1    84300903  M  19.69  21.25  130.00  1203.0  0.10960  0.15990  0.19740   \n",
       "2    84348301  M  11.42  20.38   77.58   386.1  0.14250  0.28390  0.24140   \n",
       "3    84358402  M  20.29  14.34  135.10  1297.0  0.10030  0.13280  0.19800   \n",
       "4      843786  M  12.45  15.70   82.57   477.1  0.12780  0.17000  0.15780   \n",
       "..        ... ..    ...    ...     ...     ...      ...      ...      ...   \n",
       "563    926424  M  21.56  22.39  142.00  1479.0  0.11100  0.11590  0.24390   \n",
       "564    926682  M  20.13  28.25  131.20  1261.0  0.09780  0.10340  0.14400   \n",
       "565    926954  M  16.60  28.08  108.30   858.1  0.08455  0.10230  0.09251   \n",
       "566    927241  M  20.60  29.33  140.10  1265.0  0.11780  0.27700  0.35140   \n",
       "567     92751  B   7.76  24.54   47.92   181.0  0.05263  0.04362  0.00000   \n",
       "\n",
       "      0.1471  ...   25.38  17.33   184.6    2019   0.1622   0.6656  0.7119  \\\n",
       "0    0.07017  ...  24.990  23.41  158.80  1956.0  0.12380  0.18660  0.2416   \n",
       "1    0.12790  ...  23.570  25.53  152.50  1709.0  0.14440  0.42450  0.4504   \n",
       "2    0.10520  ...  14.910  26.50   98.87   567.7  0.20980  0.86630  0.6869   \n",
       "3    0.10430  ...  22.540  16.67  152.20  1575.0  0.13740  0.20500  0.4000   \n",
       "4    0.08089  ...  15.470  23.75  103.40   741.6  0.17910  0.52490  0.5355   \n",
       "..       ...  ...     ...    ...     ...     ...      ...      ...     ...   \n",
       "563  0.13890  ...  25.450  26.40  166.10  2027.0  0.14100  0.21130  0.4107   \n",
       "564  0.09791  ...  23.690  38.25  155.00  1731.0  0.11660  0.19220  0.3215   \n",
       "565  0.05302  ...  18.980  34.12  126.70  1124.0  0.11390  0.30940  0.3403   \n",
       "566  0.15200  ...  25.740  39.42  184.60  1821.0  0.16500  0.86810  0.9387   \n",
       "567  0.00000  ...   9.456  30.37   59.16   268.6  0.08996  0.06444  0.0000   \n",
       "\n",
       "     0.2654  0.4601   0.1189  \n",
       "0    0.1860  0.2750  0.08902  \n",
       "1    0.2430  0.3613  0.08758  \n",
       "2    0.2575  0.6638  0.17300  \n",
       "3    0.1625  0.2364  0.07678  \n",
       "4    0.1741  0.3985  0.12440  \n",
       "..      ...     ...      ...  \n",
       "563  0.2216  0.2060  0.07115  \n",
       "564  0.1628  0.2572  0.06637  \n",
       "565  0.1418  0.2218  0.07820  \n",
       "566  0.2650  0.4087  0.12400  \n",
       "567  0.0000  0.2871  0.07039  \n",
       "\n",
       "[568 rows x 32 columns]"
      ]
     },
     "execution_count": 25,
     "metadata": {},
     "output_type": "execute_result"
    }
   ],
   "source": [
    "import numpy as np\n",
    "import pandas as pd\n",
    "from sklearn.preprocessing import LabelEncoder,StandardScaler\n",
    "from sklearn.model_selection import train_test_split,StratifiedKFold,cross_val_score,learning_curve,validation_curve,\\\n",
    "GridSearchCV\n",
    "from sklearn.decomposition import PCA\n",
    "from sklearn.linear_model import LogisticRegression\n",
    "from sklearn.pipeline import make_pipeline\n",
    "from sklearn.svm import SVC\n",
    "from sklearn.tree import DecisionTreeClassifier\n",
    "df = pd.read_csv('wdbc.data')#https://archive.ics.uci.edu/ml/machine-learning-databases/breast-cancer-wisconsin/\n",
    "df"
   ]
  },
  {
   "cell_type": "markdown",
   "id": "a9e68296",
   "metadata": {},
   "source": [
    "# 1.Pipeline"
   ]
  },
  {
   "cell_type": "code",
   "execution_count": 2,
   "id": "c4f00f0f",
   "metadata": {},
   "outputs": [],
   "source": [
    "x = df.iloc[:,2:].values\n",
    "y = df.iloc[:,1].values\n",
    "le = LabelEncoder()\n",
    "y = le.fit_transform(y)"
   ]
  },
  {
   "cell_type": "code",
   "execution_count": 3,
   "id": "c380f6ae",
   "metadata": {},
   "outputs": [],
   "source": [
    "x_train,x_test,y_train,y_test = train_test_split(x,y,\n",
    "                                                 test_size=0.3,\n",
    "                                                 stratify=y,\n",
    "                                                 random_state=1)"
   ]
  },
  {
   "cell_type": "code",
   "execution_count": 4,
   "id": "0004bfaa",
   "metadata": {},
   "outputs": [
    {
     "name": "stdout",
     "output_type": "stream",
     "text": [
      "test accuracy: 0.936\n"
     ]
    }
   ],
   "source": [
    "pip_lr = make_pipeline(StandardScaler(),\n",
    "                       PCA(n_components=2),\n",
    "                       LogisticRegression(random_state=1,solver='lbfgs'))\n",
    "pip_lr.fit(x_train,y_train)\n",
    "y_pred = pip_lr.predict(x_test)\n",
    "print('test accuracy: %.3f' % pip_lr.score(x_test,y_test))"
   ]
  },
  {
   "cell_type": "markdown",
   "id": "856d9df1",
   "metadata": {},
   "source": [
    "# K-fold "
   ]
  },
  {
   "cell_type": "code",
   "execution_count": 5,
   "id": "dfd79eeb",
   "metadata": {},
   "outputs": [
    {
     "name": "stdout",
     "output_type": "stream",
     "text": [
      "fold:  1, class dist.: [225 132], acc:0.950\n",
      "fold:  2, class dist.: [225 132], acc:0.950\n",
      "fold:  3, class dist.: [225 132], acc:0.925\n",
      "fold:  4, class dist.: [225 132], acc:0.925\n",
      "fold:  5, class dist.: [225 132], acc:0.925\n",
      "fold:  6, class dist.: [225 132], acc:0.950\n",
      "fold:  7, class dist.: [225 132], acc:0.975\n",
      "fold:  8, class dist.: [225 133], acc:0.923\n",
      "fold:  9, class dist.: [225 133], acc:0.974\n",
      "fold: 10, class dist.: [225 133], acc:0.974\n"
     ]
    }
   ],
   "source": [
    "kfold = StratifiedKFold(n_splits=10).split(x_train,y_train)\n",
    "scores = []\n",
    "for k ,(train,test) in enumerate(kfold):\n",
    "    pip_lr.fit(x_train[train],y_train[train])\n",
    "    score = pip_lr.score(x_train[test],y_train[test])\n",
    "    scores.append(score)\n",
    "    print('fold: %2d, class dist.: %s, acc:%.3f' % (k+1,np.bincount(y_train[train]),score))"
   ]
  },
  {
   "cell_type": "markdown",
   "id": "408d50aa",
   "metadata": {},
   "source": [
    "# cross_val_score\n"
   ]
  },
  {
   "cell_type": "code",
   "execution_count": 6,
   "id": "52f9f604",
   "metadata": {},
   "outputs": [
    {
     "name": "stdout",
     "output_type": "stream",
     "text": [
      "CV accuracy scores: [0.95       0.95       0.925      0.925      0.925      0.95\n",
      " 0.975      0.92307692 0.97435897 0.97435897] , CV accuracy:0.9472 +/- 0.0208\n"
     ]
    }
   ],
   "source": [
    "scores = cross_val_score(estimator=pip_lr,\n",
    "                         X = x_train,\n",
    "                         y =y_train,\n",
    "                         cv = 10,\n",
    "                         n_jobs=1)\n",
    "print('CV accuracy scores: %s , CV accuracy:%.4f +/- %.4f' % (scores,np.mean(scores),np.std(scores)))"
   ]
  },
  {
   "cell_type": "markdown",
   "id": "63d762ed",
   "metadata": {},
   "source": [
    "# Learning Curve algoration debug"
   ]
  },
  {
   "cell_type": "code",
   "execution_count": 17,
   "id": "309d2490",
   "metadata": {},
   "outputs": [],
   "source": [
    "import matplotlib.pyplot as plt\n",
    "\n",
    "pipe_lr = make_pipeline(StandardScaler(),\n",
    "                        LogisticRegression(penalty='l2',\n",
    "                                           random_state=1,\n",
    "                                           solver='lbfgs',\n",
    "                                           max_iter=10000\n",
    "                                           ))"
   ]
  },
  {
   "cell_type": "code",
   "execution_count": 8,
   "id": "000b1790",
   "metadata": {},
   "outputs": [
    {
     "data": {
      "text/plain": [
       "<matplotlib.legend.Legend at 0x272d45fb670>"
      ]
     },
     "execution_count": 8,
     "metadata": {},
     "output_type": "execute_result"
    },
    {
     "data": {
      "image/png": "[encoded data removed]",
      "text/plain": [
       "<Figure size 432x288 with 1 Axes>"
      ]
     },
     "metadata": {
      "needs_background": "light"
     },
     "output_type": "display_data"
    }
   ],
   "source": [
    "train_sizes,train_scores,test_scores = learning_curve(estimator=pipe_lr,\n",
    "                                                      X = x_train,\n",
    "                                                      y = y_train,\n",
    "                                                      train_sizes=np.linspace(0.1,1.0,10),\n",
    "                                                      cv = 10,\n",
    "                                                      n_jobs=2)\n",
    "\n",
    "train_mean = np.mean(train_scores,axis=1)\n",
    "train_std = np.std(train_scores,axis=1)\n",
    "test_mean = np.mean(test_scores,axis=1)\n",
    "test_std = np.std(test_scores,axis=1)\n",
    "\n",
    "plt.plot(train_sizes,train_mean,\n",
    "         color='b',marker='o',\n",
    "         markersize = 5, label = 'train acc')\n",
    "plt.fill_between(train_sizes,\n",
    "                 train_mean + train_std,\n",
    "                 train_mean - train_std,\n",
    "                 alpha = 0.1,color = 'b')\n",
    "\n",
    "plt.plot(train_sizes,test_mean,\n",
    "         color = 'g',linestyle = '--',\n",
    "         marker = 's',markersize = 5,\n",
    "         label = 'validation acc')\n",
    "plt.fill_between(train_sizes,\n",
    "                test_mean + test_std,\n",
    "                test_mean - test_std,\n",
    "                alpha =0.1,color = 'g')\n",
    "\n",
    "plt.grid()\n",
    "plt.xlabel('train examples')\n",
    "plt.ylabel('acc')\n",
    "plt.legend(loc = 'lower center')"
   ]
  },
  {
   "cell_type": "markdown",
   "id": "b061bbe1",
   "metadata": {},
   "source": [
    "# validation_curve overfitting and underfitting"
   ]
  },
  {
   "cell_type": "code",
   "execution_count": 9,
   "id": "d122efdf",
   "metadata": {},
   "outputs": [
    {
     "data": {
      "image/png": "[encoded data removed]",
      "text/plain": [
       "<Figure size 432x288 with 1 Axes>"
      ]
     },
     "metadata": {
      "needs_background": "light"
     },
     "output_type": "display_data"
    }
   ],
   "source": [
    "param_range = [0.001, 0.01, 0.1, 1.0, 10.0, 100.0]\n",
    "train_scores, test_scores = validation_curve(\n",
    "                estimator=pipe_lr, \n",
    "                X=x_train, \n",
    "                y=y_train, \n",
    "                param_name='logisticregression__C', \n",
    "                param_range=param_range,\n",
    "                cv=10)\n",
    "\n",
    "train_mean = np.mean(train_scores, axis=1)\n",
    "train_std = np.std(train_scores, axis=1)\n",
    "test_mean = np.mean(test_scores, axis=1)\n",
    "test_std = np.std(test_scores, axis=1)\n",
    "\n",
    "plt.plot(param_range, train_mean, \n",
    "         color='b', marker='o', \n",
    "         markersize=5, label='training acc')\n",
    "\n",
    "plt.fill_between(param_range, \n",
    "                 train_mean + train_std,\n",
    "                 train_mean - train_std, \n",
    "                 alpha=0.1,color='b')\n",
    "\n",
    "plt.plot(param_range, test_mean, \n",
    "         color='g', linestyle='--', \n",
    "         marker='s', markersize=5, \n",
    "         label='validation acc')\n",
    "\n",
    "plt.fill_between(param_range, \n",
    "                 test_mean + test_std,\n",
    "                 test_mean - test_std, \n",
    "                 alpha=0.1, color='g')\n",
    "\n",
    "plt.grid()\n",
    "plt.xscale('log')\n",
    "plt.legend(loc='lower right')\n",
    "plt.xlabel('Parameter C')\n",
    "plt.ylabel('Accuracy')\n",
    "plt.ylim([0.8, 1.0])\n",
    "plt.tight_layout()\n",
    "plt.show()"
   ]
  },
  {
   "cell_type": "markdown",
   "id": "9593e76e",
   "metadata": {},
   "source": [
    "# Grid Search (brute-force)"
   ]
  },
  {
   "cell_type": "code",
   "execution_count": 13,
   "id": "32ef30bb",
   "metadata": {},
   "outputs": [
    {
     "name": "stdout",
     "output_type": "stream",
     "text": [
      "0.9799358974358974\n",
      "{'svc__C': 0.1, 'svc__kernel': 'linear'}\n",
      "test acc: 0.947\n"
     ]
    }
   ],
   "source": [
    "\n",
    "pipe_svc = make_pipeline(StandardScaler(),\n",
    "                         SVC(random_state=1))\n",
    "\n",
    "param_range = [0.0001, 0.001, 0.01, 0.1, 1.0, 10.0, 100.0, 1000.0]\n",
    "\n",
    "\n",
    "param_grid = [{'svc__C':param_range,\n",
    "               'svc__kernel': ['linear']},\n",
    "              {'svc__C':param_range,\n",
    "               'svc__gamma':param_range,\n",
    "               'svc__kernel': ['rbf']}]        # svc__gamma 為 Kernel SVM 特有\n",
    "gs = GridSearchCV(estimator = pipe_svc,\n",
    "                  param_grid = param_grid,\n",
    "                  scoring = 'accuracy',\n",
    "                  cv = 10,\n",
    "                  n_jobs = -1)\n",
    "\n",
    "gs = gs.fit(x_train,y_train)\n",
    "clf = gs.best_estimator_\n",
    "clf.fit(x_train,y_train)\n",
    "print(gs.best_score_)\n",
    "print(gs.best_params_)\n",
    "print('test acc: %.3f' % clf.score(x_test,y_test))"
   ]
  },
  {
   "cell_type": "code",
   "execution_count": 14,
   "id": "1979da53",
   "metadata": {},
   "outputs": [
    {
     "name": "stdout",
     "output_type": "stream",
     "text": [
      "CV accuracy: 0.972 +/- 0.027\n"
     ]
    }
   ],
   "source": [
    "#巢狀式交叉驗證\n",
    "gs = GridSearchCV(estimator = pipe_svc,\n",
    "                  param_grid = param_grid,\n",
    "                  scoring = 'accuracy',\n",
    "                  cv =2)\n",
    "\n",
    "scores = cross_val_score(gs,x_train,y_train,\n",
    "                         scoring = 'accuracy',cv = 5)\n",
    "\n",
    "print('CV accuracy: %.3f +/- %.3f' %(np.mean(scores),\n",
    "                                     np.std(scores)))"
   ]
  },
  {
   "cell_type": "code",
   "execution_count": 15,
   "id": "0403a242",
   "metadata": {},
   "outputs": [
    {
     "name": "stdout",
     "output_type": "stream",
     "text": [
      "CV accuracy: 0.947 +/- 0.032\n"
     ]
    }
   ],
   "source": [
    "gs = GridSearchCV(estimator =DecisionTreeClassifier(random_state=0),\n",
    "                             param_grid = [{'max_depth':[1,2,3,4,5,6,7,None]}],\n",
    "                             scoring = 'accuracy',cv = 2)\n",
    "scores1 = cross_val_score(gs,x_train,y_train,\n",
    "                         scoring = 'accuracy',cv = 5)\n",
    "print('CV accuracy: %.3f +/- %.3f' %(np.mean(scores1),\n",
    "                                     np.std(scores1)))"
   ]
  },
  {
   "cell_type": "code",
   "execution_count": 20,
   "id": "6f6d3aee",
   "metadata": {},
   "outputs": [
    {
     "name": "stdout",
     "output_type": "stream",
     "text": [
      "[[107   0]\n",
      " [  7  57]]\n"
     ]
    },
    {
     "data": {
      "image/png": "[encoded data removed]",
      "text/plain": [
       "<Figure size 180x180 with 1 Axes>"
      ]
     },
     "metadata": {
      "needs_background": "light"
     },
     "output_type": "display_data"
    }
   ],
   "source": [
    "from sklearn.metrics import confusion_matrix\n",
    "\n",
    "pipe_svc.fit(x_train,y_train)\n",
    "y_pred = pipe_svc.predict(x_test)\n",
    "confmat = confusion_matrix(y_test,y_pred)\n",
    "print(confmat)\n",
    "\n",
    "#vision\n",
    "\n",
    "fig,ax = plt.subplots(figsize = (2.5,2.5))\n",
    "ax.matshow(confmat,cmap = plt.cm.Blues,alpha = 0.3)\n",
    "for i in range(confmat.shape[0]):\n",
    "    for j in range(confmat.shape[1]):\n",
    "        ax.text(x = j,y = i,\n",
    "               s = confmat[i,j],\n",
    "               va = 'center' , ha ='center')\n",
    "plt.xlabel('prd label')\n",
    "plt.ylabel('true label')\n",
    "plt.show()"
   ]
  },
  {
   "cell_type": "code",
   "execution_count": null,
   "id": "d43dc8fc",
   "metadata": {},
   "outputs": [],
   "source": []
  }
 ],
 "metadata": {
  "kernelspec": {
   "display_name": "Python 3 (ipykernel)",
   "language": "python",
   "name": "python3"
  },
  "language_info": {
   "codemirror_mode": {
    "name": "ipython",
    "version": 3
   },
   "file_extension": ".py",
   "mimetype": "text/x-python",
   "name": "python",
   "nbconvert_exporter": "python",
   "pygments_lexer": "ipython3",
   "version": "3.9.12"
  }
 },
 "nbformat": 4,
 "nbformat_minor": 5
}
